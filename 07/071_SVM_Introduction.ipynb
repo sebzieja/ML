{
 "cells": [
  {
   "cell_type": "markdown",
   "metadata": {},
   "source": [
    "# Support Vector Machine\n",
    "\n",
    "In this course we go through the Support Vector Machine method. It is divided into few parts:\n",
    "1. Linear C-SVM classifier\n",
    "2. RBF and polynomial kernels\n",
    "3. nuSVM classifier\n",
    "4. Multiclass SVM\n",
    "5. Use case: skin cancer diagnosis\n",
    "6. Exercises"
   ]
  },
  {
   "cell_type": "markdown",
   "metadata": {},
   "source": [
    "## Data set\n",
    "\n",
    "We use in this section the classic IRIS data set. It can be loaded using the scikit-learn package."
   ]
  },
  {
   "cell_type": "code",
   "execution_count": 1,
   "metadata": {},
   "outputs": [
    {
     "name": "stdout",
     "output_type": "stream",
     "text": [
      "Stored 'train_data_set' (ndarray)\n",
      "Stored 'train_labels' (ndarray)\n",
      "Stored 'test_data_set' (ndarray)\n",
      "Stored 'test_labels' (ndarray)\n"
     ]
    }
   ],
   "source": [
    "from sklearn.datasets import load_iris\n",
    "import numpy as np\n",
    "from sklearn.model_selection import train_test_split\n",
    "\n",
    "iris = load_iris()\n",
    "data_set = iris.data\n",
    "labels = iris.target\n",
    "\n",
    "data_set = data_set[labels!=2]\n",
    "labels = labels[labels!=2]\n",
    "\n",
    "train_data_set, test_data_set, train_labels, test_labels = train_test_split(\n",
    "    data_set, labels, test_size=0.2, random_state=15)\n",
    "\n",
    "#train_data_set = iris.data[0:len(iris.target)-20,:]\n",
    "#train_labels = iris.target[0:len(iris.target)-20]\n",
    "#unique_labels = np.unique(iris.target)\n",
    "\n",
    "#test_data_set = iris.data[-20:,:]\n",
    "#test_labels = iris.target[-20:]\n",
    "\n",
    "%store train_data_set\n",
    "%store train_labels\n",
    "%store test_data_set\n",
    "%store test_labels"
   ]
  },
  {
   "cell_type": "markdown",
   "metadata": {},
   "source": [
    "## Idea\n",
    "\n",
    "The idea of SVM is to find a hyperplane in a higher dimension. There are many hyperplanes possible, but only one gives best results. A few possible separation options are shown below."
   ]
  },
  {
   "cell_type": "code",
   "execution_count": 2,
   "metadata": {},
   "outputs": [
    {
     "data": {
      "text/plain": [
       "<Figure size 640x480 with 1 Axes>"
      ]
     },
     "metadata": {},
     "output_type": "display_data"
    }
   ],
   "source": [
    "import matplotlib.pyplot as plt\n",
    "from matplotlib import transforms\n",
    "\n",
    "plt.scatter(train_data_set[:, 1], train_data_set[:, 2], c=train_labels, s=50, cmap='autumn')\n",
    "\n",
    "hyperplanes_number = 10\n",
    "x = np.arange(10)\n",
    "\n",
    "plt.plot(x, x)\n",
    "plt.plot(x, 2*x-3)\n",
    "plt.plot(x, 2.5+x*0)\n",
    "plt.plot(x, -0.33*x+3.66)\n",
    "\n",
    "plt.xlim(1.5, 5)\n",
    "plt.ylim(0, 5)\n",
    "\n",
    "plt.show()"
   ]
  },
  {
   "cell_type": "markdown",
   "metadata": {},
   "source": [
    "## Maximum margin\n",
    "\n",
    "The best hyperplane is the one with the widest margin. The margin is set as $\\frac{1}{||w||}$ and our goal is to minimize $w$."
   ]
  },
  {
   "cell_type": "code",
   "execution_count": 3,
   "metadata": {},
   "outputs": [
    {
     "data": {
      "image/png": "[encoded data removed]",
      "text/plain": [
       "<Figure size 432x288 with 1 Axes>"
      ]
     },
     "metadata": {
      "needs_background": "light"
     },
     "output_type": "display_data"
    }
   ],
   "source": [
    "import matplotlib.pyplot as plt\n",
    "from matplotlib import transforms\n",
    "\n",
    "plt.scatter(train_data_set[:, 1], train_data_set[:, 2], c=train_labels, s=50, cmap='autumn')\n",
    "\n",
    "hyperplanes_number = 10\n",
    "x = np.arange(10)\n",
    "\n",
    "plt.plot(x, x-0.45)\n",
    "plt.plot(x, x-1.4,'g--')\n",
    "plt.plot(x, x+0.5,'g--')\n",
    "#plt.plot(x, 2*x-3)\n",
    "#plt.plot(x, 2.5+x*0)\n",
    "#plt.plot(x, -0.33*x+3.66)\n",
    "\n",
    "plt.xlim(1.5, 5)\n",
    "plt.ylim(0, 5)\n",
    "\n",
    "plt.show()"
   ]
  },
  {
   "cell_type": "markdown",
   "metadata": {},
   "source": [
    "## Convex problem\n",
    "\n",
    "So far we know that have to maximize:\n",
    "\\begin{equation}\n",
    "    \\frac{1}{||w||},\n",
    "\\end{equation}\n",
    "what means that we need to:\n",
    "\\begin{equation}\n",
    "    \\min \\frac{1}{2}w^{T}w\n",
    "\\end{equation}\n",
    "and take into consideration some constraints:\n",
    "\\begin{equation}\n",
    "    y_{i}(w^{T}x_{i}+w_{0})\\geq1 \\text{ } \\forall i=1,\\ldots,n.\n",
    "\\end{equation}\n",
    "This problem is a convex problem.\n",
    "\n",
    "We have to solve a quadratic optimization problem with constraints to find an optimal separating hyperplane. Let's assume we have to minimize the function $f(x)$ with the constraint $g(x) = 0$, where $x$ might be a vector of variables $x = (x_{1}, \\ldots, x_{n})$. We can notice that the minimum of the $f(x)$ is found when the gradients of these two functions are parallel i.e.\n",
    "\\begin{equation}\n",
    " \\nabla f(x)=\\lambda\\nabla g(x),\n",
    "\\end{equation}\n",
    "where $\\alpha$ is the scaling factor, we call it a Lagrange multiplier. To find the minimum of $f$ under the constraint $g$, we just need to solve:\n",
    "\\begin{equation}\n",
    " \\label{ex:heartlagrangian1}\n",
    " \\nabla f(x) - \\lambda\\nabla g(x) = 0.\n",
    "\\end{equation}\n",
    "To solve that equation we can define a function \n",
    "\\begin{align}\n",
    "L(x, \\lambda) = f(x) - \\lambda g(x),   \n",
    "\\end{align}\n",
    "then its gradient is \n",
    "\\begin{align}\n",
    "\\nabla L(x, \\lambda) = \\nabla f(x) - \\lambda \\nabla g(x).\n",
    "\\end{align}\n",
    "Solving \n",
    "\\begin{align}\n",
    "\\nabla L(x, \\lambda) = 0    \n",
    "\\end{align} \n",
    "allows us to find the minimum. In our example we have 80 objects. It means we have 80 equations and 80 lambdas to find. \n",
    "\n",
    "The data set we used for training need to be fixed as we have a binary classifier:"
   ]
  },
  {
   "cell_type": "code",
   "execution_count": 4,
   "metadata": {},
   "outputs": [],
   "source": [
    "# fix\n",
    "train_labels[train_labels<1] = -1\n",
    "test_labels[test_labels<1] = -1\n",
    "\n",
    "objects_count = len(train_labels)"
   ]
  },
  {
   "cell_type": "markdown",
   "metadata": {},
   "source": [
    "We use a linear kernel that can be written as:\n",
    "\\begin{equation}\n",
    "K=xx^{T}\n",
    "\\end{equation}"
   ]
  },
  {
   "cell_type": "code",
   "execution_count": 5,
   "metadata": {},
   "outputs": [],
   "source": [
    "linear_kernel = np.dot(train_data_set, train_data_set.T)"
   ]
  },
  {
   "cell_type": "markdown",
   "metadata": {},
   "source": [
    "To solve the quadrative optimization problem we use the cvopt libary. Based on the documentation it solves the problem by minimizing\n",
    "\\begin{equation}\n",
    "\\frac{1}{2}x'*P*x + q'*x,\n",
    "\\end{equation} \n",
    "subject to \n",
    "\\begin{equation}\n",
    "G * x <= h\n",
    "\\end{equation}\n",
    "and\n",
    "\\begin{equation}\n",
    "A * x = b,\n",
    "\\end{equation}\n",
    "where $P=K*y_{i}*y_{j}$, $q$ is a vector of -1. In the equations above $x$ are our $\\lambda$s."
   ]
  },
  {
   "cell_type": "code",
   "execution_count": 6,
   "metadata": {},
   "outputs": [],
   "source": [
    "# Assemble the matrices for the constraints\n",
    "P = train_labels * train_labels.transpose() * linear_kernel\n",
    "q = -np.ones((objects_count, 1))\n",
    "\n",
    "G = -np.eye(objects_count)\n",
    "h = np.zeros((objects_count, 1))\n",
    "A = train_labels.reshape(1, objects_count)\n",
    "A = A.astype(float)\n",
    "b = 0.0"
   ]
  },
  {
   "cell_type": "markdown",
   "metadata": {},
   "source": [
    "The solver of the equations can be invoked as below. The $x$ value are our $\\lambda$s."
   ]
  },
  {
   "cell_type": "code",
   "execution_count": 8,
   "metadata": {},
   "outputs": [
    {
     "name": "stdout",
     "output_type": "stream",
     "text": [
      "     pcost       dcost       gap    pres   dres\n",
      " 0: -4.5474e-01 -5.7385e-01  1e+02  1e+01  1e+00\n",
      " 1: -2.8868e-02 -6.4500e-02  4e+00  4e-01  4e-02\n",
      " 2:  2.2639e-03 -4.8540e-02  7e-02  2e-03  2e-04\n",
      " 3: -9.9525e-03 -1.9427e-02  9e-03  1e-18  4e-16\n",
      " 4: -1.1819e-02 -1.5127e-02  3e-03  1e-18  2e-16\n",
      " 5: -1.2520e-02 -1.5470e-02  3e-03  2e-18  2e-16\n",
      " 6: -1.4816e-02 -1.5217e-02  4e-04  6e-18  2e-16\n",
      " 7: -1.4959e-02 -1.5018e-02  6e-05  5e-18  2e-16\n",
      " 8: -1.4947e-02 -1.5008e-02  6e-05  2e-18  3e-16\n",
      " 9: -1.4985e-02 -1.4989e-02  5e-06  2e-18  3e-16\n",
      "10: -1.4987e-02 -1.4987e-02  3e-07  5e-18  2e-16\n",
      "11: -1.4987e-02 -1.4987e-02  3e-09  1e-17  2e-16\n",
      "Optimal solution found.\n",
      "[[2.90242318e-11]\n",
      " [7.66118368e-11]\n",
      " [2.58605844e-11]\n",
      " [2.52586184e-11]\n",
      " [6.59520523e-11]\n",
      " [5.22546000e-11]\n",
      " [2.72126969e-11]\n",
      " [5.17161817e-11]\n",
      " [2.70417576e-03]\n",
      " [2.54478557e-11]\n",
      " [1.83990857e-11]\n",
      " [3.90546778e-11]\n",
      " [1.97733389e-11]\n",
      " [1.55173429e-11]\n",
      " [3.34516650e-11]\n",
      " [2.06911093e-11]\n",
      " [3.97898927e-11]\n",
      " [3.76987117e-11]\n",
      " [2.50969274e-11]\n",
      " [2.20587764e-11]\n",
      " [1.27270979e-11]\n",
      " [2.73281704e-11]\n",
      " [5.48186598e-10]\n",
      " [3.00400121e-11]\n",
      " [1.40073732e-11]\n",
      " [4.24041985e-11]\n",
      " [6.19606870e-11]\n",
      " [2.87101807e-11]\n",
      " [3.81428860e-11]\n",
      " [1.62142882e-11]\n",
      " [4.80649713e-11]\n",
      " [1.40858818e-11]\n",
      " [1.50760637e-10]\n",
      " [7.14951651e-11]\n",
      " [3.83625227e-11]\n",
      " [3.73268851e-11]\n",
      " [4.95492277e-11]\n",
      " [2.67494214e-11]\n",
      " [1.92999085e-11]\n",
      " [1.79924004e-11]\n",
      " [1.87647909e-11]\n",
      " [8.51882108e-11]\n",
      " [4.01984007e-11]\n",
      " [3.02948494e-11]\n",
      " [1.22826917e-02]\n",
      " [4.32336555e-11]\n",
      " [1.49768582e-11]\n",
      " [1.26346831e-11]\n",
      " [4.86594895e-11]\n",
      " [3.55555020e-11]\n",
      " [2.94413552e-11]\n",
      " [5.47642245e-11]\n",
      " [4.20709004e-11]\n",
      " [1.57828916e-11]\n",
      " [1.82094976e-11]\n",
      " [5.60660967e-11]\n",
      " [1.49868677e-02]\n",
      " [1.34090055e-11]\n",
      " [2.59559128e-11]\n",
      " [3.03149662e-11]\n",
      " [4.18313297e-11]\n",
      " [3.50013963e-11]\n",
      " [2.13488689e-11]\n",
      " [1.83775465e-11]\n",
      " [2.55810362e-11]\n",
      " [2.97949299e-11]\n",
      " [2.64939928e-11]\n",
      " [3.19505812e-11]\n",
      " [2.71346247e-11]\n",
      " [3.48797526e-11]\n",
      " [7.82546337e-11]\n",
      " [1.84200587e-11]\n",
      " [1.58087652e-11]\n",
      " [2.31489648e-11]\n",
      " [3.11736115e-11]\n",
      " [3.35813120e-11]\n",
      " [3.53570219e-11]\n",
      " [2.24892191e-11]\n",
      " [6.50241531e-11]\n",
      " [1.73949143e-11]]\n"
     ]
    }
   ],
   "source": [
    "import cvxopt\n",
    "\n",
    "sol = cvxopt.solvers.qp(cvxopt.matrix(P), cvxopt.matrix(q), cvxopt.matrix(G), cvxopt.matrix(h), cvxopt.matrix(A), cvxopt.matrix(b))\n",
    "lambdas = np.array(sol['x'])\n",
    "\n",
    "print(lambdas)"
   ]
  },
  {
   "cell_type": "code",
   "execution_count": null,
   "metadata": {},
   "outputs": [],
   "source": []
  },
  {
   "cell_type": "code",
   "execution_count": null,
   "metadata": {},
   "outputs": [],
   "source": []
  }
 ],
 "metadata": {
  "kernelspec": {
   "display_name": "Python 3",
   "language": "python",
   "name": "python3"
  },
  "language_info": {
   "codemirror_mode": {
    "name": "ipython",
    "version": 3
   },
   "file_extension": ".py",
   "mimetype": "text/x-python",
   "name": "python",
   "nbconvert_exporter": "python",
   "pygments_lexer": "ipython3",
   "version": "3.6.8"
  }
 },
 "nbformat": 4,
 "nbformat_minor": 2
}
