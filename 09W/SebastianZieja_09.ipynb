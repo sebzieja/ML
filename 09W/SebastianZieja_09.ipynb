{
 "cells": [
  {
   "cell_type": "markdown",
   "metadata": {},
   "source": [
    "# Homework 12\n",
    "\n",
    "- Implement a Perceptron. \n",
    "- Train and test it for the Iris data set below \n",
    "- visualise the data points and the decission boundry of your trained Perceptron on a 2D plot (petal length vs petal width)\n",
    "- compare to sklearn implementation"
   ]
  },
  {
   "cell_type": "code",
   "execution_count": 99,
   "metadata": {
    "colab": {
     "autoexec": {
      "startup": false,
      "wait_interval": 0
     }
    },
    "colab_type": "code",
    "id": "_kJOjt2EcvQh"
   },
   "outputs": [
    {
     "name": "stdout",
     "output_type": "stream",
     "text": [
      "(150, 2)\n",
      "(150,)\n"
     ]
    }
   ],
   "source": [
    "import numpy as np\n",
    "import random\n",
    "import matplotlib\n",
    "import matplotlib.pyplot as plt\n",
    "import matplotlib.cm as cmx\n",
    "import matplotlib.colors as colors\n",
    "from sklearn.model_selection import train_test_split\n",
    "\n",
    "from sklearn.datasets import load_iris\n",
    "from sklearn.linear_model import Perceptron\n",
    "\n",
    "iris = load_iris()\n",
    "X = iris.data[:, (2, 3)]  # use only petal length and petal width\n",
    "y = (iris.target == 0).astype(np.int) # check only if it's an Iris-Setosa (1), or no (0)\n",
    "print(X.shape)\n",
    "print(y.shape)"
   ]
  },
  {
   "cell_type": "code",
   "execution_count": 100,
   "metadata": {
    "colab": {
     "autoexec": {
      "startup": false,
      "wait_interval": 0
     },
     "base_uri": "https://localhost:8080/",
     "height": 378
    },
    "colab_type": "code",
    "executionInfo": {
     "elapsed": 926,
     "status": "ok",
     "timestamp": 1527956004923,
     "user": {
      "displayName": "Kuba W",
      "photoUrl": "https://lh3.googleusercontent.com/a/default-user=s128",
      "userId": "110652440779759444354"
     },
     "user_tz": -120
    },
    "id": "xc0TAMTdNh6L",
    "outputId": "c749c0bf-c312-43b6-b699-342a461fcdf1"
   },
   "outputs": [
    {
     "data": {
      "text/plain": [
       "Text(0, 0.5, 'Petal Width')"
      ]
     },
     "execution_count": 100,
     "metadata": {},
     "output_type": "execute_result"
    },
    {
     "data": {
      "image/png": "[encoded data removed]",
      "text/plain": [
       "<Figure size 432x288 with 1 Axes>"
      ]
     },
     "metadata": {
      "needs_background": "light"
     },
     "output_type": "display_data"
    }
   ],
   "source": [
    "plt.scatter(X[:,0], X[:,1], c=y, cmap='viridis')\n",
    "plt.xlabel(\"Petal Length\")\n",
    "plt.ylabel(\"Petal Width\")"
   ]
  },
  {
   "cell_type": "markdown",
   "metadata": {},
   "source": [
    "The scatterplot shows an evident space for a choice boundary.\n"
   ]
  },
  {
   "cell_type": "markdown",
   "metadata": {},
   "source": [
    "Data is sorted, so lets shuffle it a bit."
   ]
  },
  {
   "cell_type": "code",
   "execution_count": 101,
   "metadata": {
    "colab": {
     "autoexec": {
      "startup": false,
      "wait_interval": 0
     }
    },
    "colab_type": "code",
    "id": "riQIrK1jSUtE"
   },
   "outputs": [],
   "source": [
    "\n",
    "X_train, X_test, y_train, y_test = train_test_split(X, y, test_size=0.20, random_state=42)\n",
    "\n",
    "#Mashing x and y together for the train and test sets\n",
    "training_data = np.insert(X_train, len(X_train[0]), y_train, axis=1)\n",
    "testing_data = np.insert(X_test, len(X_test[0]), y_test, axis=1)"
   ]
  },
  {
   "cell_type": "code",
   "execution_count": 102,
   "metadata": {
    "colab": {
     "autoexec": {
      "startup": false,
      "wait_interval": 0
     }
    },
    "colab_type": "code",
    "id": "Pi2YQZr-IEcV"
   },
   "outputs": [],
   "source": [
    "def predict(row, weights):\n",
    "  activation = weights[0]\n",
    "  for i in range(len(row)-1):\n",
    "    activation += weights[i+1]*row[i]\n",
    "  return 1.0 if (activation >= 0) else 0.0"
   ]
  },
  {
   "cell_type": "code",
   "execution_count": 103,
   "metadata": {
    "colab": {
     "autoexec": {
      "startup": false,
      "wait_interval": 0
     }
    },
    "colab_type": "code",
    "id": "D5IYuMVpHl9A"
   },
   "outputs": [],
   "source": [
    "def train(data, eta=0.1, n=20):\n",
    "  w = [0.0 for i in range(len(data[0]))]\n",
    "  errors = []\n",
    "  for epoch in range(n):\n",
    "    sum_error = 0\n",
    "    for row in data:\n",
    "      prediction = predict(row, w)\n",
    "      error = row[-1] - prediction\n",
    "      w[0] += eta * error\n",
    "      for i in range(len(row)-1):\n",
    "        w[i+1] += eta * error * row[i]\n",
    "        \n",
    "      sum_error += error**2\n",
    "    errors.append(sum_error)\n",
    "   \n",
    "  return w, errors"
   ]
  },
  {
   "cell_type": "code",
   "execution_count": 104,
   "metadata": {
    "colab": {
     "autoexec": {
      "startup": false,
      "wait_interval": 0
     }
    },
    "colab_type": "code",
    "id": "Z1V_4rDpeRt8"
   },
   "outputs": [],
   "source": [
    "#Running training algorithm\n",
    "#we randomize initial weights and run the training algorithm\n",
    "weights, errors = train(training_data)"
   ]
  },
  {
   "cell_type": "code",
   "execution_count": 105,
   "metadata": {
    "colab": {
     "autoexec": {
      "startup": false,
      "wait_interval": 0
     },
     "base_uri": "https://localhost:8080/",
     "height": 378
    },
    "colab_type": "code",
    "executionInfo": {
     "elapsed": 614,
     "status": "ok",
     "timestamp": 1527956049179,
     "user": {
      "displayName": "Kuba W",
      "photoUrl": "https://lh3.googleusercontent.com/a/default-user=s128",
      "userId": "110652440779759444354"
     },
     "user_tz": -120
    },
    "id": "P1iIn4XOVNMd",
    "outputId": "b0b31d74-0f35-458f-ba90-0dda21f551b6"
   },
   "outputs": [
    {
     "data": {
      "text/plain": [
       "Text(0, 0.5, 'Error')"
      ]
     },
     "execution_count": 105,
     "metadata": {},
     "output_type": "execute_result"
    },
    {
     "data": {
      "image/png": "[encoded data removed]",
      "text/plain": [
       "<Figure size 432x288 with 1 Axes>"
      ]
     },
     "metadata": {
      "needs_background": "light"
     },
     "output_type": "display_data"
    }
   ],
   "source": [
    "#Error Plot shows early convergence\n",
    "plt.plot(errors)\n",
    "plt.xlabel(\"Epochs\")\n",
    "plt.ylabel(\"Error\")"
   ]
  },
  {
   "cell_type": "code",
   "execution_count": 106,
   "metadata": {
    "colab": {
     "autoexec": {
      "startup": false,
      "wait_interval": 0
     },
     "base_uri": "https://localhost:8080/",
     "height": 34
    },
    "colab_type": "code",
    "executionInfo": {
     "elapsed": 372,
     "status": "ok",
     "timestamp": 1527956050921,
     "user": {
      "displayName": "Kuba W",
      "photoUrl": "https://lh3.googleusercontent.com/a/default-user=s128",
      "userId": "110652440779759444354"
     },
     "user_tz": -120
    },
    "id": "4RGr4YwsY_kB",
    "outputId": "fb3407f3-21bc-4290-b9d8-982ea06b5954"
   },
   "outputs": [
    {
     "data": {
      "text/plain": [
       "[0.4, -0.09, -0.18999999999999995]"
      ]
     },
     "execution_count": 106,
     "metadata": {},
     "output_type": "execute_result"
    }
   ],
   "source": [
    "#Final Weights vector\n",
    "weights"
   ]
  },
  {
   "cell_type": "code",
   "execution_count": 107,
   "metadata": {
    "colab": {
     "autoexec": {
      "startup": false,
      "wait_interval": 0
     },
     "base_uri": "https://localhost:8080/",
     "height": 365
    },
    "colab_type": "code",
    "executionInfo": {
     "elapsed": 672,
     "status": "ok",
     "timestamp": 1527956053965,
     "user": {
      "displayName": "Kuba W",
      "photoUrl": "https://lh3.googleusercontent.com/a/default-user=s128",
      "userId": "110652440779759444354"
     },
     "user_tz": -120
    },
    "id": "Bt1ZSkQ_WJmr",
    "outputId": "4d674939-ee2a-422f-c7c7-45f30c8575c4"
   },
   "outputs": [
    {
     "data": {
      "image/png": "[encoded data removed]",
      "text/plain": [
       "<Figure size 432x288 with 1 Axes>"
      ]
     },
     "metadata": {
      "needs_background": "light"
     },
     "output_type": "display_data"
    }
   ],
   "source": [
    "#we now come back to the scatterplot and apply the weights vector to plot the decision boundary\n",
    "plt.plot([0,-weights[0]/weights[2]], [-weights[0]/weights[1], 0], 'k-', lw=2)\n",
    "plt.scatter(X[:,0], X[:,1], c=y, cmap='viridis')\n",
    "plt.xlabel(\"Petal Length\")\n",
    "plt.ylabel(\"Petal Width\")\n",
    "plt.show()"
   ]
  },
  {
   "cell_type": "code",
   "execution_count": 108,
   "metadata": {
    "colab": {
     "autoexec": {
      "startup": false,
      "wait_interval": 0
     }
    },
    "colab_type": "code",
    "id": "_HyoYIjPlc2l"
   },
   "outputs": [
    {
     "name": "stderr",
     "output_type": "stream",
     "text": [
      "C:\\Users\\Sebastian\\scoop\\apps\\anaconda3\\current\\envs\\datascience\\lib\\site-packages\\sklearn\\linear_model\\stochastic_gradient.py:166: FutureWarning: max_iter and tol parameters have been added in Perceptron in 0.19. If both are left unset, they default to max_iter=5 and tol=None. If tol is not None, max_iter defaults to max_iter=1000. From 0.21, default max_iter will be 1000, and default tol will be 1e-3.\n",
      "  FutureWarning)\n"
     ]
    }
   ],
   "source": [
    "#Now let's run the test with sklearn\n",
    "clf = Perceptron()\n",
    "clf.fit(X, y)\n",
    "func = clf.decision_function(X)\n"
   ]
  },
  {
   "cell_type": "code",
   "execution_count": 109,
   "metadata": {
    "colab": {
     "autoexec": {
      "startup": false,
      "wait_interval": 0
     },
     "base_uri": "https://localhost:8080/",
     "height": 361
    },
    "colab_type": "code",
    "executionInfo": {
     "elapsed": 668,
     "status": "ok",
     "timestamp": 1527956060799,
     "user": {
      "displayName": "Kuba W",
      "photoUrl": "https://lh3.googleusercontent.com/a/default-user=s128",
      "userId": "110652440779759444354"
     },
     "user_tz": -120
    },
    "id": "uEeOsv7nmrph",
    "outputId": "b5542385-ea46-43f8-8357-4b27e8fde304"
   },
   "outputs": [
    {
     "data": {
      "image/png": "[encoded data removed]",
      "text/plain": [
       "<Figure size 432x288 with 1 Axes>"
      ]
     },
     "metadata": {
      "needs_background": "light"
     },
     "output_type": "display_data"
    }
   ],
   "source": [
    "#Sklearn provides a superior model with non-binary classifiers giving their proximity to the boundary\n",
    "plt.scatter(X[:,0], X[:,1], c=func, cmap='viridis')\n",
    "plt.xlabel(\"Petal Length\")\n",
    "plt.ylabel(\"Petal Width\")\n",
    "plt.show()"
   ]
  },
  {
   "cell_type": "code",
   "execution_count": 110,
   "metadata": {
    "colab": {
     "autoexec": {
      "startup": false,
      "wait_interval": 0
     }
    },
    "colab_type": "code",
    "id": "jjDW3jAeaVre"
   },
   "outputs": [],
   "source": [
    "#An accuracy metric\n",
    "def accuracy(predicted, actual):\n",
    "  correct = 0\n",
    "  for i in range(len(predicted)):\n",
    "    if predicted[i] == actual[i]:\n",
    "      correct += 1\n",
    "  return (correct/float(len(predicted)))*100"
   ]
  },
  {
   "cell_type": "code",
   "execution_count": 111,
   "metadata": {
    "colab": {
     "autoexec": {
      "startup": false,
      "wait_interval": 0
     }
    },
    "colab_type": "code",
    "id": "fxUTK2H10YdZ"
   },
   "outputs": [],
   "source": [
    "#We now run a prediction of the test data\n",
    "predicted = []\n",
    "for i in range(len(X_test)):\n",
    "  predicted.append(predict(testing_data[i], weights))"
   ]
  },
  {
   "cell_type": "code",
   "execution_count": 112,
   "metadata": {
    "colab": {
     "autoexec": {
      "startup": false,
      "wait_interval": 0
     },
     "base_uri": "https://localhost:8080/",
     "height": 378
    },
    "colab_type": "code",
    "executionInfo": {
     "elapsed": 820,
     "status": "ok",
     "timestamp": 1527956069132,
     "user": {
      "displayName": "Kuba W",
      "photoUrl": "https://lh3.googleusercontent.com/a/default-user=s128",
      "userId": "110652440779759444354"
     },
     "user_tz": -120
    },
    "id": "pDKCoHe30zds",
    "outputId": "481ca488-2ef3-4611-f89e-23ca07a5ea53"
   },
   "outputs": [
    {
     "name": "stdout",
     "output_type": "stream",
     "text": [
      "Accuracy: 100.0 %\n"
     ]
    },
    {
     "data": {
      "image/png": "[encoded data removed]",
      "text/plain": [
       "<Figure size 432x288 with 1 Axes>"
      ]
     },
     "metadata": {
      "needs_background": "light"
     },
     "output_type": "display_data"
    }
   ],
   "source": [
    "print(\"Accuracy:\", accuracy(predicted, y_test), \"%\")\n",
    "\n",
    "#A scatterplot showing predicted labels for tested samples\n",
    "plt.plot([0,-weights[0]/weights[2]], [-weights[0]/weights[1], 0], 'k-', lw=2)\n",
    "plt.scatter(X_test[:,0], X_test[:,1], c=predicted, cmap='viridis')\n",
    "\n",
    "plt.xlabel(\"Petal Length\")\n",
    "plt.ylabel(\"Petal Width\")\n",
    "plt.show()"
   ]
  },
  {
   "cell_type": "markdown",
   "metadata": {
    "colab": {
     "autoexec": {
      "startup": false,
      "wait_interval": 0
     }
    },
    "colab_type": "code",
    "id": "fL2S3EE9R4eP"
   },
   "source": [
    "Given the binary structure of this problem and contained label clusters this model will hit 100% accuracy. With less trivial problem error rate would shoot up accordingly."
   ]
  },
  {
   "cell_type": "code",
   "execution_count": null,
   "metadata": {},
   "outputs": [],
   "source": []
  }
 ],
 "metadata": {
  "colab": {
   "collapsed_sections": [],
   "default_view": {},
   "name": "Perceptron.ipynb",
   "provenance": [],
   "version": "0.3.2",
   "views": {}
  },
  "kernelspec": {
   "display_name": "Python 3",
   "language": "python",
   "name": "python3"
  },
  "language_info": {
   "codemirror_mode": {
    "name": "ipython",
    "version": 3
   },
   "file_extension": ".py",
   "mimetype": "text/x-python",
   "name": "python",
   "nbconvert_exporter": "python",
   "pygments_lexer": "ipython3",
   "version": "3.6.8"
  }
 },
 "nbformat": 4,
 "nbformat_minor": 1
}
