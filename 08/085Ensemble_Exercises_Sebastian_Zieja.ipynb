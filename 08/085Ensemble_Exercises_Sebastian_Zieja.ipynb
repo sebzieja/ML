{
 "cells": [
  {
   "cell_type": "markdown",
   "metadata": {},
   "source": [
    "# Ensemble methods. Exercises\n",
    "\n",
    "\n",
    "In this section we have only one exercise:\n",
    "\n",
    "1. Find the best three classifier in the stacking method using the classifiers from scikit-learn package, such as:\n",
    "\n",
    "\n",
    "* Linear regression,\n",
    "* Nearest Neighbors,\n",
    "* Linear SVM,\n",
    "* Decision Tree,\n",
    "* Naive Bayes,\n",
    "* QDA."
   ]
  },
  {
   "cell_type": "code",
   "execution_count": 1,
   "metadata": {},
   "outputs": [],
   "source": [
    "%store -r data_set\n",
    "%store -r labels\n",
    "%store -r test_data_set\n",
    "%store -r test_labels\n",
    "%store -r unique_labels"
   ]
  },
  {
   "cell_type": "markdown",
   "metadata": {},
   "source": [
    "## Exercise 1: Find the best three classifier in the stacking method"
   ]
  },
  {
   "cell_type": "code",
   "execution_count": 62,
   "metadata": {},
   "outputs": [],
   "source": [
    "import numpy as np\n",
    "from sklearn.metrics import accuracy_score\n",
    "\n",
    "from sklearn.linear_model import LinearRegression\n",
    "from sklearn.neighbors import KNeighborsClassifier\n",
    "from sklearn.svm import SVC\n",
    "from sklearn.tree import DecisionTreeClassifier\n",
    "from sklearn.naive_bayes import GaussianNB\n",
    "from sklearn.discriminant_analysis import QuadraticDiscriminantAnalysis"
   ]
  },
  {
   "cell_type": "code",
   "execution_count": 63,
   "metadata": {},
   "outputs": [],
   "source": [
    "def build_classifiers(combination):\n",
    "    # fill this part\n",
    "    \n",
    "\n",
    "    return combination[0].fit(data_set,labels), combination[1].fit(data_set,labels), combination[2].fit(data_set,labels), combination[3]\n",
    "\n",
    "#     return None # and here"
   ]
  },
  {
   "cell_type": "code",
   "execution_count": 64,
   "metadata": {},
   "outputs": [],
   "source": [
    "def build_stacked_classifier(classifiers):\n",
    "    output = []\n",
    "    stacked_classifier = classifiers[-1]\n",
    "    classifiers = classifiers[:3]\n",
    "    for classifier in classifiers:\n",
    "        output.append(classifier.predict(data_set))\n",
    "    output = np.array(output).reshape((130,3))\n",
    "    \n",
    "    # stacked classifier part:\n",
    "    \n",
    "    stacked_classifier.fit(output.reshape((130,3)), labels.reshape((130,)))\n",
    "    test_set = []\n",
    "    for classifier in classifiers:\n",
    "        test_set.append(classifier.predict(test_data_set))\n",
    "    test_set = np.array(test_set).reshape((len(test_set[0]),3))\n",
    "    predicted = stacked_classifier.predict(test_set)\n",
    "    return predicted"
   ]
  },
  {
   "cell_type": "code",
   "execution_count": 65,
   "metadata": {},
   "outputs": [
    {
     "name": "stdout",
     "output_type": "stream",
     "text": [
      "Max accuracy by this funcions, last one is used as stacked_classifier:\n",
      "['LinearRegression KNeighborsClassifier SVC GaussianNB', 'LinearRegression KNeighborsClassifier DecisionTreeClassifier GaussianNB', 'LinearRegression SVC DecisionTreeClassifier GaussianNB', 'KNeighborsClassifier SVC DecisionTreeClassifier GaussianNB']\n",
      "If there was more than one function with max accuracy, they were listed as well\n",
      "With value: 1.0\n"
     ]
    },
    {
     "name": "stderr",
     "output_type": "stream",
     "text": [
      "C:\\Users\\Sebastian\\scoop\\apps\\anaconda3\\current\\envs\\datascience\\lib\\site-packages\\sklearn\\discriminant_analysis.py:692: UserWarning: Variables are collinear\n",
      "  warnings.warn(\"Variables are collinear\")\n",
      "C:\\Users\\Sebastian\\scoop\\apps\\anaconda3\\current\\envs\\datascience\\lib\\site-packages\\sklearn\\discriminant_analysis.py:692: UserWarning: Variables are collinear\n",
      "  warnings.warn(\"Variables are collinear\")\n",
      "C:\\Users\\Sebastian\\scoop\\apps\\anaconda3\\current\\envs\\datascience\\lib\\site-packages\\sklearn\\discriminant_analysis.py:692: UserWarning: Variables are collinear\n",
      "  warnings.warn(\"Variables are collinear\")\n",
      "C:\\Users\\Sebastian\\scoop\\apps\\anaconda3\\current\\envs\\datascience\\lib\\site-packages\\sklearn\\discriminant_analysis.py:692: UserWarning: Variables are collinear\n",
      "  warnings.warn(\"Variables are collinear\")\n",
      "C:\\Users\\Sebastian\\scoop\\apps\\anaconda3\\current\\envs\\datascience\\lib\\site-packages\\sklearn\\discriminant_analysis.py:692: UserWarning: Variables are collinear\n",
      "  warnings.warn(\"Variables are collinear\")\n",
      "C:\\Users\\Sebastian\\scoop\\apps\\anaconda3\\current\\envs\\datascience\\lib\\site-packages\\sklearn\\discriminant_analysis.py:692: UserWarning: Variables are collinear\n",
      "  warnings.warn(\"Variables are collinear\")\n"
     ]
    }
   ],
   "source": [
    "list_of_function = [LinearRegression(), KNeighborsClassifier(), SVC(gamma='auto'), DecisionTreeClassifier(), GaussianNB(), QuadraticDiscriminantAnalysis()]\n",
    "from itertools import combinations\n",
    "import operator\n",
    "combinations = list(combinations(list_of_function, 4))\n",
    "# print(combinations)\n",
    "dict = {}\n",
    "\n",
    "for combination in combinations:\n",
    "    classifiers = build_classifiers(combination)\n",
    "    predicted = build_stacked_classifier(classifiers)\n",
    "    accuracy = accuracy_score(test_labels, predicted)\n",
    "    name_list = [type(item).__name__ for item in combination]\n",
    "    dict[' '.join(name_list)] = accuracy\n",
    "#     print(\"give accuracy:\", accuracy, \"by models:\", name_list)\n",
    "\n",
    "    \n",
    "maxv = max(dict.values())\n",
    "new_dict = [k for k, v in dict.items() if v == maxv]\n",
    "print(\"Max accuracy by this funcions, last one is used as stacked_classifier:\")\n",
    "print(new_dict)\n",
    "print(\"If there was more than one function with max accuracy, they were listed as well\")\n",
    "print(\"With value:\", maxv)"
   ]
  },
  {
   "cell_type": "code",
   "execution_count": null,
   "metadata": {},
   "outputs": [],
   "source": []
  }
 ],
 "metadata": {
  "kernelspec": {
   "display_name": "Python 3",
   "language": "python",
   "name": "python3"
  },
  "language_info": {
   "codemirror_mode": {
    "name": "ipython",
    "version": 3
   },
   "file_extension": ".py",
   "mimetype": "text/x-python",
   "name": "python",
   "nbconvert_exporter": "python",
   "pygments_lexer": "ipython3",
   "version": "3.6.8"
  }
 },
 "nbformat": 4,
 "nbformat_minor": 2
}
