{
 "cells": [
  {
   "cell_type": "code",
   "execution_count": 33,
   "metadata": {
    "scrolled": true
   },
   "outputs": [],
   "source": [
    "from __future__ import division, print_function, unicode_literals\n",
    "\n",
    "# To plot pretty figures\n",
    "import matplotlib\n",
    "import matplotlib.pyplot as plt\n",
    "plt.rcParams['axes.labelsize'] = 14\n",
    "plt.rcParams['xtick.labelsize'] = 12\n",
    "plt.rcParams['ytick.labelsize'] = 12\n",
    "import seaborn as sns\n",
    "%matplotlib inline\n",
    "\n",
    "import pandas as pd\n",
    "import numpy as np\n",
    "#import os\n",
    "\n",
    "import warnings\n",
    "warnings.filterwarnings('ignore')\n",
    "dataset = pd.read_csv('./data/labeledTrainData.tsv', delimiter = '\\t', quoting = 3)\n",
    "dataset = dataset.drop('id', 1)"
   ]
  },
  {
   "cell_type": "code",
   "execution_count": 83,
   "metadata": {},
   "outputs": [
    {
     "data": {
      "text/html": [
       "<div>\n",
       "<style scoped>\n",
       "    .dataframe tbody tr th:only-of-type {\n",
       "        vertical-align: middle;\n",
       "    }\n",
       "\n",
       "    .dataframe tbody tr th {\n",
       "        vertical-align: top;\n",
       "    }\n",
       "\n",
       "    .dataframe thead th {\n",
       "        text-align: right;\n",
       "    }\n",
       "</style>\n",
       "<table border=\"1\" class=\"dataframe\">\n",
       "  <thead>\n",
       "    <tr style=\"text-align: right;\">\n",
       "      <th></th>\n",
       "      <th>sentiment</th>\n",
       "      <th>review</th>\n",
       "    </tr>\n",
       "  </thead>\n",
       "  <tbody>\n",
       "    <tr>\n",
       "      <th>0</th>\n",
       "      <td>1</td>\n",
       "      <td>\"With all this stuff going down at the moment ...</td>\n",
       "    </tr>\n",
       "    <tr>\n",
       "      <th>1</th>\n",
       "      <td>1</td>\n",
       "      <td>\"\\\"The Classic War of the Worlds\\\" by Timothy ...</td>\n",
       "    </tr>\n",
       "    <tr>\n",
       "      <th>2</th>\n",
       "      <td>0</td>\n",
       "      <td>\"The film starts with a manager (Nicholas Bell...</td>\n",
       "    </tr>\n",
       "    <tr>\n",
       "      <th>3</th>\n",
       "      <td>0</td>\n",
       "      <td>\"It must be assumed that those who praised thi...</td>\n",
       "    </tr>\n",
       "    <tr>\n",
       "      <th>4</th>\n",
       "      <td>1</td>\n",
       "      <td>\"Superbly trashy and wondrously unpretentious ...</td>\n",
       "    </tr>\n",
       "  </tbody>\n",
       "</table>\n",
       "</div>"
      ],
      "text/plain": [
       "   sentiment                                             review\n",
       "0          1  \"With all this stuff going down at the moment ...\n",
       "1          1  \"\\\"The Classic War of the Worlds\\\" by Timothy ...\n",
       "2          0  \"The film starts with a manager (Nicholas Bell...\n",
       "3          0  \"It must be assumed that those who praised thi...\n",
       "4          1  \"Superbly trashy and wondrously unpretentious ..."
      ]
     },
     "execution_count": 83,
     "metadata": {},
     "output_type": "execute_result"
    }
   ],
   "source": [
    "\n",
    "dataset.head()"
   ]
  },
  {
   "cell_type": "code",
   "execution_count": 70,
   "metadata": {},
   "outputs": [
    {
     "data": {
      "text/plain": [
       "1    12500\n",
       "0    12500\n",
       "Name: sentiment, dtype: int64"
      ]
     },
     "execution_count": 70,
     "metadata": {},
     "output_type": "execute_result"
    }
   ],
   "source": [
    "dataset.sentiment.value_counts()"
   ]
  },
  {
   "cell_type": "code",
   "execution_count": 76,
   "metadata": {},
   "outputs": [
    {
     "name": "stdout",
     "output_type": "stream",
     "text": [
      "(20000,)\n",
      "(5000,)\n",
      "(20000,)\n",
      "(5000,)\n"
     ]
    }
   ],
   "source": [
    "from sklearn.feature_extraction.text import CountVectorizer\n",
    "from sklearn.model_selection import train_test_split\n",
    "vect = CountVectorizer()\n",
    "X_train,X_test,y_train,y_test = train_test_split(dataset[\"review\"], dataset[\"sentiment\"], test_size=0.2, random_state=10)\n",
    "vect.fit(X_train)\n",
    "print(X_train.shape)\n",
    "print(X_test.shape)\n",
    "print(y_train.shape)\n",
    "print(y_test.shape)\n",
    "X_train_df = vect.transform(X_train)\n",
    "X_test_df = vect.transform(X_test)\n",
    "\n",
    "\n"
   ]
  },
  {
   "cell_type": "code",
   "execution_count": 59,
   "metadata": {},
   "outputs": [
    {
     "data": {
      "text/plain": [
       "<2500x71740 sparse matrix of type '<class 'numpy.int64'>'\n",
       "\twith 340682 stored elements in Compressed Sparse Row format>"
      ]
     },
     "execution_count": 59,
     "metadata": {},
     "output_type": "execute_result"
    }
   ],
   "source": [
    "X_test_df"
   ]
  },
  {
   "cell_type": "code",
   "execution_count": 51,
   "metadata": {},
   "outputs": [
    {
     "data": {
      "text/plain": [
       "0.8436"
      ]
     },
     "execution_count": 51,
     "metadata": {},
     "output_type": "execute_result"
    }
   ],
   "source": [
    "prediction = dict()\n",
    "from sklearn.naive_bayes import MultinomialNB\n",
    "model = MultinomialNB()\n",
    "model.fit(X_train_df,y_train)\n",
    "prediction[\"Multinomial\"] = model.predict(X_test_df)\n",
    "from sklearn.metrics import accuracy_score,confusion_matrix,classification_report\n",
    "accuracy_score(y_test,prediction[\"Multinomial\"])"
   ]
  },
  {
   "cell_type": "code",
   "execution_count": 55,
   "metadata": {},
   "outputs": [
    {
     "name": "stdout",
     "output_type": "stream",
     "text": [
      "0.886\n"
     ]
    }
   ],
   "source": [
    "from sklearn.linear_model import LogisticRegression\n",
    "model = LogisticRegression()\n",
    "model.fit(X_train_df,y_train)\n",
    "prediction[\"Logistic\"] = model.predict(X_test_df)\n",
    "print(accuracy_score(y_test,prediction[\"Logistic\"]))"
   ]
  },
  {
   "cell_type": "code",
   "execution_count": 58,
   "metadata": {},
   "outputs": [
    {
     "name": "stdout",
     "output_type": "stream",
     "text": [
      "[[1123  154]\n",
      " [ 237  986]]\n",
      "[1 1 0 ... 0 0 0]\n"
     ]
    },
    {
     "data": {
      "image/png": "[encoded data removed]",
      "text/plain": [
       "<Figure size 432x288 with 2 Axes>"
      ]
     },
     "metadata": {
      "needs_background": "light"
     },
     "output_type": "display_data"
    }
   ],
   "source": [
    "conf_mat = confusion_matrix(y_test, prediction['Multinomial'])\n",
    "conf_mat_normalized = conf_mat.astype('float') / conf_mat.sum(axis=1)[:, np.newaxis]\n",
    "sns.heatmap(conf_mat_normalized)\n",
    "plt.ylabel('True label')\n",
    "plt.xlabel('Predicted label')\n",
    "print(conf_mat)"
   ]
  },
  {
   "cell_type": "code",
   "execution_count": 56,
   "metadata": {},
   "outputs": [
    {
     "name": "stdout",
     "output_type": "stream",
     "text": [
      "[[1109  168]\n",
      " [ 117 1106]]\n"
     ]
    },
    {
     "data": {
      "image/png": "[encoded data removed]",
      "text/plain": [
       "<Figure size 432x288 with 2 Axes>"
      ]
     },
     "metadata": {
      "needs_background": "light"
     },
     "output_type": "display_data"
    }
   ],
   "source": [
    "\n",
    "conf_mat = confusion_matrix(y_test, prediction['Logistic'])\n",
    "conf_mat_normalized = conf_mat.astype('float') / conf_mat.sum(axis=1)[:, np.newaxis]\n",
    "sns.heatmap(conf_mat_normalized)\n",
    "plt.ylabel('True label')\n",
    "plt.xlabel('Predicted label')\n",
    "print(conf_mat)"
   ]
  },
  {
   "cell_type": "code",
   "execution_count": 60,
   "metadata": {},
   "outputs": [],
   "source": [
    "#creating own implementation of Naive Bayes with BoW and simple string conversion:\n",
    "import pandas as pd\n",
    "import numpy as np\n",
    "from collections import defaultdict\n",
    "import re\n",
    "\n",
    "def preprocess_string(str_arg):\n",
    "    cleaned_str = re.sub('[^a-z\\s]+', ' ', str_arg, flags=re.IGNORECASE)  # every char except alphabets is replaced\n",
    "    cleaned_str = re.sub('(\\s+)', ' ', cleaned_str)  # multiple spaces are replaced by single space\n",
    "    cleaned_str = cleaned_str.lower()  # converting the cleaned string to lower case\n",
    "\n",
    "    return cleaned_str  # eturning the preprocessed string in tokenized form\n",
    "\n",
    "\n",
    "class NaiveBayes:\n",
    "\n",
    "    def __init__(self, unique_classes):\n",
    "\n",
    "        self.classes = unique_classes  # Constructor is sinply passed with unique number of classes of the training set\n",
    "\n",
    "    def addToBow(self, example, dict_index):\n",
    "\n",
    "        if isinstance(example, np.ndarray): example = example[0]\n",
    "\n",
    "        for token_word in example.split():  # for every word in preprocessed example\n",
    "\n",
    "            self.bow_dicts[dict_index][token_word] += 1  # increment in its count\n",
    "\n",
    "    def train(self, dataset, labels):\n",
    "\n",
    "        self.examples = dataset\n",
    "        self.labels = labels\n",
    "        self.bow_dicts = np.array([defaultdict(lambda: 0) for index in range(self.classes.shape[0])])\n",
    "\n",
    "        if not isinstance(self.examples, np.ndarray): self.examples = np.array(self.examples)\n",
    "        if not isinstance(self.labels, np.ndarray): self.labels = np.array(self.labels)\n",
    "\n",
    "        # constructing BoW for each category\n",
    "        for cat_index, cat in enumerate(self.classes):\n",
    "            all_cat_examples = self.examples[self.labels == cat]  # filter all examples of category == cat\n",
    "            cleaned_examples = [preprocess_string(cat_example) for cat_example in all_cat_examples]\n",
    "            cleaned_examples = pd.DataFrame(data=cleaned_examples)\n",
    "\n",
    "            # now costruct BoW of this particular category\n",
    "            np.apply_along_axis(self.addToBow, 1, cleaned_examples, cat_index)\n",
    "\n",
    "        prob_classes = np.empty(self.classes.shape[0])\n",
    "        all_words = []\n",
    "        cat_word_counts = np.empty(self.classes.shape[0])\n",
    "        for cat_index, cat in enumerate(self.classes):\n",
    "            # Calculating prior probability p(c) for each class\n",
    "            prob_classes[cat_index] = np.sum(self.labels == cat) / float(self.labels.shape[0])\n",
    "\n",
    "            # Calculating total counts of all the words of each class\n",
    "            count = list(self.bow_dicts[cat_index].values())\n",
    "            cat_word_counts[cat_index] = np.sum(\n",
    "                np.array(list(self.bow_dicts[cat_index].values()))) + 1  # |v| is remaining to be added\n",
    "\n",
    "            # get all words of this category\n",
    "            all_words += self.bow_dicts[cat_index].keys()\n",
    "\n",
    "        # combine all words of every category & make them unique to get vocabulary -V- of entire training set\n",
    "\n",
    "        self.vocab = np.unique(np.array(all_words))\n",
    "        self.vocab_length = self.vocab.shape[0]\n",
    "\n",
    "        # computing denominator value\n",
    "        denoms = np.array(\n",
    "            [cat_word_counts[cat_index] + self.vocab_length + 1 for cat_index, cat in enumerate(self.classes)])\n",
    "\n",
    "        self.cats_info = [(self.bow_dicts[cat_index], prob_classes[cat_index], denoms[cat_index]) for cat_index, cat in\n",
    "                          enumerate(self.classes)]\n",
    "        self.cats_info = np.array(self.cats_info)\n",
    "\n",
    "    def getExampleProb(self, test_example):\n",
    "\n",
    "        likelihood_prob = np.zeros(self.classes.shape[0])  # to store probability w.r.t each class\n",
    "\n",
    "        # finding probability w.r.t each class of the given test example\n",
    "        for cat_index, cat in enumerate(self.classes):\n",
    "\n",
    "            for test_token in test_example.split():  # split the test example and get p of each test word\n",
    "\n",
    "                ####################################################################################\n",
    "\n",
    "                # This loop computes : for each word w [ count(w|c)+1 ] / [ count(c) + |V| + 1 ]\n",
    "\n",
    "                ####################################################################################\n",
    "\n",
    "                # get total count of this test token from it's respective training dict to get numerator value\n",
    "                test_token_counts = self.cats_info[cat_index][0].get(test_token, 0) + 1\n",
    "\n",
    "                # now get likelihood of this test_token word\n",
    "                test_token_prob = test_token_counts / float(self.cats_info[cat_index][2])\n",
    "\n",
    "                # remember why taking log? To prevent underflow!\n",
    "                likelihood_prob[cat_index] += np.log(test_token_prob)\n",
    "\n",
    "        # we have likelihood estimate of the given example against every class but we need posterior probility\n",
    "        post_prob = np.empty(self.classes.shape[0])\n",
    "        for cat_index, cat in enumerate(self.classes):\n",
    "            post_prob[cat_index] = likelihood_prob[cat_index] + np.log(self.cats_info[cat_index][1])\n",
    "\n",
    "        return post_prob\n",
    "\n",
    "    def test(self, test_set):\n",
    "\n",
    "        predictions = []  # to store prediction of each test example\n",
    "        for example in test_set:\n",
    "            # preprocess the test example the same way we did for training set exampels\n",
    "            cleaned_example = preprocess_string(example)\n",
    "\n",
    "            # simply get the posterior probability of every example\n",
    "            post_prob = self.getExampleProb(cleaned_example)  # get prob of this example for both classes\n",
    "\n",
    "            # simply pick the max value and map against self.classes!\n",
    "            predictions.append(self.classes[np.argmax(post_prob)])\n",
    "\n",
    "        return np.array(predictions)\n",
    "\n"
   ]
  },
  {
   "cell_type": "code",
   "execution_count": 77,
   "metadata": {},
   "outputs": [],
   "source": [
    "nb=NaiveBayes(np.unique(y_train)) #instantiate a NB class object"
   ]
  },
  {
   "cell_type": "code",
   "execution_count": 92,
   "metadata": {},
   "outputs": [],
   "source": [
    "nb.train(X_train.values,y_train.values)\n"
   ]
  },
  {
   "cell_type": "code",
   "execution_count": 93,
   "metadata": {},
   "outputs": [
    {
     "name": "stdout",
     "output_type": "stream",
     "text": [
      "Test Set Examples:  5000\n",
      "Test Set Accuracy:  0.0 %\n"
     ]
    }
   ],
   "source": [
    "pclasses=nb.test(X_test.values)\n",
    "print(pclasses)\n",
    "\n",
    "test_acc=np.sum(pclasses==y_test.values)/float(y_test.values.shape[0])\n",
    "print (\"Test Set Examples: \",y_test.values.shape[0])\n",
    "print (\"Test Set Accuracy: \",test_acc*100,\"%\")"
   ]
  },
  {
   "cell_type": "code",
   "execution_count": 98,
   "metadata": {},
   "outputs": [
    {
     "name": "stdout",
     "output_type": "stream",
     "text": [
      "Test Set Examples:  5000\n",
      "Test Set Accuracy:  84.22 %\n",
      "[1 1 0 ... 0 1 0]\n",
      "[1 1 0 ... 0 1 0]\n",
      "0.8422\n"
     ]
    }
   ],
   "source": [
    "test_acc=np.sum(pclasses==y_test.values)/float(y_test.values.shape[0])\n",
    "print (\"Test Set Examples: \",y_test.values.shape[0])\n",
    "print (\"Test Set Accuracy: \",test_acc*100,\"%\")\n",
    "print(pclasses)\n",
    "print(y_test.values)\n",
    "print(test_acc)"
   ]
  },
  {
   "cell_type": "code",
   "execution_count": 67,
   "metadata": {},
   "outputs": [
    {
     "name": "stdout",
     "output_type": "stream",
     "text": [
      "18634    1\n",
      "1333     1\n",
      "20315    0\n",
      "6357     0\n",
      "10496    1\n",
      "23567    1\n",
      "501      0\n",
      "11332    0\n",
      "1744     1\n",
      "19340    0\n",
      "15097    0\n",
      "24068    0\n",
      "12727    0\n",
      "21140    1\n",
      "8872     0\n",
      "15312    0\n",
      "5009     0\n",
      "13243    1\n",
      "19796    1\n",
      "20175    1\n",
      "14844    0\n",
      "2355     1\n",
      "10068    1\n",
      "14586    1\n",
      "14990    0\n",
      "21034    0\n",
      "2859     1\n",
      "3571     0\n",
      "2673     1\n",
      "23270    1\n",
      "        ..\n",
      "7310     0\n",
      "10519    1\n",
      "7443     1\n",
      "15489    0\n",
      "246      1\n",
      "6442     0\n",
      "18370    1\n",
      "6240     1\n",
      "1769     0\n",
      "22574    1\n",
      "1958     1\n",
      "16311    0\n",
      "11630    1\n",
      "2236     0\n",
      "11292    1\n",
      "7025     0\n",
      "5205     1\n",
      "6909     1\n",
      "2882     1\n",
      "2344     1\n",
      "5830     0\n",
      "68       1\n",
      "10467    0\n",
      "11092    1\n",
      "9800     0\n",
      "22565    0\n",
      "3909     1\n",
      "1096     0\n",
      "12573    0\n",
      "6581     0\n",
      "Name: sentiment, Length: 2500, dtype: int64\n"
     ]
    }
   ],
   "source": [
    "print(y_test)"
   ]
  },
  {
   "cell_type": "code",
   "execution_count": null,
   "metadata": {},
   "outputs": [],
   "source": []
  }
 ],
 "metadata": {
  "kernelspec": {
   "display_name": "Python 3",
   "language": "python",
   "name": "python3"
  },
  "language_info": {
   "codemirror_mode": {
    "name": "ipython",
    "version": 3
   },
   "file_extension": ".py",
   "mimetype": "text/x-python",
   "name": "python",
   "nbconvert_exporter": "python",
   "pygments_lexer": "ipython3",
   "version": "3.6.8"
  }
 },
 "nbformat": 4,
 "nbformat_minor": 2
}
